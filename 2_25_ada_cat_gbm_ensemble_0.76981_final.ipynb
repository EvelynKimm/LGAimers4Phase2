{
 "cells": [
  {
   "cell_type": "code",
   "execution_count": 1,
   "id": "aee942c4",
   "metadata": {},
   "outputs": [
    {
     "name": "stdout",
     "output_type": "stream",
     "text": [
      "Defaulting to user installation because normal site-packages is not writeable\n",
      "Requirement already satisfied: lightgbm==4.3.0 in ./.local/lib/python3.10/site-packages (4.3.0)\n",
      "Requirement already satisfied: numpy in ./.local/lib/python3.10/site-packages (from lightgbm==4.3.0) (1.23.5)\n",
      "Requirement already satisfied: scipy in ./.local/lib/python3.10/site-packages (from lightgbm==4.3.0) (1.11.4)\n",
      "Defaulting to user installation because normal site-packages is not writeable\n",
      "Requirement already satisfied: catboost==1.2.2 in ./.local/lib/python3.10/site-packages (1.2.2)\n",
      "Requirement already satisfied: graphviz in ./.local/lib/python3.10/site-packages (from catboost==1.2.2) (0.20.1)\n",
      "Requirement already satisfied: matplotlib in ./.local/lib/python3.10/site-packages (from catboost==1.2.2) (3.8.2)\n",
      "Requirement already satisfied: numpy>=1.16.0 in ./.local/lib/python3.10/site-packages (from catboost==1.2.2) (1.23.5)\n",
      "Requirement already satisfied: pandas>=0.24 in ./.local/lib/python3.10/site-packages (from catboost==1.2.2) (2.1.4)\n",
      "Requirement already satisfied: scipy in ./.local/lib/python3.10/site-packages (from catboost==1.2.2) (1.11.4)\n",
      "Requirement already satisfied: plotly in ./.local/lib/python3.10/site-packages (from catboost==1.2.2) (5.19.0)\n",
      "Requirement already satisfied: six in ./.local/lib/python3.10/site-packages (from catboost==1.2.2) (1.16.0)\n",
      "Requirement already satisfied: python-dateutil>=2.8.2 in ./.local/lib/python3.10/site-packages (from pandas>=0.24->catboost==1.2.2) (2.8.2)\n",
      "Requirement already satisfied: pytz>=2020.1 in ./.local/lib/python3.10/site-packages (from pandas>=0.24->catboost==1.2.2) (2023.3.post1)\n",
      "Requirement already satisfied: tzdata>=2022.1 in ./.local/lib/python3.10/site-packages (from pandas>=0.24->catboost==1.2.2) (2023.4)\n",
      "Requirement already satisfied: contourpy>=1.0.1 in ./.local/lib/python3.10/site-packages (from matplotlib->catboost==1.2.2) (1.2.0)\n",
      "Requirement already satisfied: cycler>=0.10 in ./.local/lib/python3.10/site-packages (from matplotlib->catboost==1.2.2) (0.12.1)\n",
      "Requirement already satisfied: fonttools>=4.22.0 in ./.local/lib/python3.10/site-packages (from matplotlib->catboost==1.2.2) (4.47.2)\n",
      "Requirement already satisfied: kiwisolver>=1.3.1 in ./.local/lib/python3.10/site-packages (from matplotlib->catboost==1.2.2) (1.4.5)\n",
      "Requirement already satisfied: packaging>=20.0 in ./.local/lib/python3.10/site-packages (from matplotlib->catboost==1.2.2) (23.2)\n",
      "Requirement already satisfied: pillow>=8 in ./.local/lib/python3.10/site-packages (from matplotlib->catboost==1.2.2) (10.2.0)\n",
      "Requirement already satisfied: pyparsing>=2.3.1 in ./.local/lib/python3.10/site-packages (from matplotlib->catboost==1.2.2) (3.1.1)\n",
      "Requirement already satisfied: tenacity>=6.2.0 in ./.local/lib/python3.10/site-packages (from plotly->catboost==1.2.2) (8.2.3)\n"
     ]
    }
   ],
   "source": [
    "!pip install lightgbm==4.3.0\n",
    "!pip install catboost==1.2.2"
   ]
  },
  {
   "cell_type": "code",
   "execution_count": 2,
   "id": "initial_id",
   "metadata": {
    "ExecuteTime": {
     "end_time": "2024-02-18T15:31:43.018201100Z",
     "start_time": "2024-02-18T15:31:41.405703600Z"
    }
   },
   "outputs": [],
   "source": [
    "import pandas as pd\n",
    "import numpy as np\n",
    "import random\n",
    "import os\n",
    "import torch\n",
    "\n",
    "from sklearn.metrics import accuracy_score, confusion_matrix, f1_score, precision_score, recall_score\n",
    "from sklearn.model_selection import train_test_split\n",
    "\n",
    "import lightgbm as lgb\n",
    "from catboost import CatBoostClassifier\n",
    "from sklearn.ensemble import AdaBoostClassifier, RandomForestClassifier"
   ]
  },
  {
   "cell_type": "code",
   "execution_count": 3,
   "id": "290fc40172cf0906",
   "metadata": {
    "ExecuteTime": {
     "end_time": "2024-02-18T15:31:43.208550400Z",
     "start_time": "2024-02-18T15:31:43.191551500Z"
    }
   },
   "outputs": [],
   "source": [
    "CFG = {\n",
    "    'SEED':1813\n",
    "}"
   ]
  },
  {
   "cell_type": "code",
   "execution_count": 4,
   "id": "483c10ca1e4733b",
   "metadata": {
    "ExecuteTime": {
     "end_time": "2024-02-18T15:31:45.409362200Z",
     "start_time": "2024-02-18T15:31:45.395362500Z"
    }
   },
   "outputs": [],
   "source": [
    "def seed_everything(seed):\n",
    "    random.seed(seed)\n",
    "    os.environ['PYTHONHASHSEED'] = str(seed)\n",
    "    np.random.seed(seed)\n",
    "    torch.manual_seed(seed)\n",
    "    torch.cuda.manual_seed(seed)\n",
    "    torch.backends.cudnn.deterministic = True\n",
    "    torch.backends.cudnn.benchmark = True\n",
    "\n",
    "seed_everything(CFG['SEED']) # Seed 고정"
   ]
  },
  {
   "cell_type": "markdown",
   "id": "606ad49f",
   "metadata": {},
   "source": [
    "## 데이터 불러오기"
   ]
  },
  {
   "cell_type": "code",
   "execution_count": 5,
   "id": "583db15451f94140",
   "metadata": {
    "ExecuteTime": {
     "end_time": "2024-02-18T15:31:47.877278900Z",
     "start_time": "2024-02-18T15:31:47.715773900Z"
    }
   },
   "outputs": [],
   "source": [
    "df_train = pd.read_csv(\"train.csv\") # 학습용 데이터\n",
    "df_test = pd.read_csv(\"submission.csv\") # 테스트 데이터(제출파일의 데이터)"
   ]
  },
  {
   "cell_type": "markdown",
   "id": "cecab38554704ea1",
   "metadata": {},
   "source": [
    "## 데이터 전처리"
   ]
  },
  {
   "cell_type": "code",
   "execution_count": 6,
   "id": "5400777c572272a9",
   "metadata": {
    "ExecuteTime": {
     "end_time": "2024-02-18T15:32:04.685293100Z",
     "start_time": "2024-02-18T15:32:04.671293500Z"
    }
   },
   "outputs": [],
   "source": [
    "def inquery_types(data: pd.DataFrame):\n",
    "    # NaN to Other\n",
    "    data['inquiry_type'].fillna('other', inplace=True)\n",
    "\n",
    "    # 전부 소문자로 치환\n",
    "    data['inquiry_type'] = data['inquiry_type'].str.lower()\n",
    "\n",
    "    # _ 문자를 공백으로 치환\n",
    "    data['inquiry_type'] = data['inquiry_type'].str.replace('_', ' ')\n",
    "\n",
    "    # ~~ 상담 제거\n",
    "    data['inquiry_type'] = data['inquiry_type'].str.replace(' consultation', '')\n",
    "    data['inquiry_type'] = data['inquiry_type'].str.replace(' consulting', '')\n",
    "\n",
    "    # '용법' 이란 단어와 '기술/기능'이라는 같은 의미를 가진다고 해석\n",
    "    data['inquiry_type'] = data['inquiry_type'].str.replace('usage or technical', 'technical')\n",
    "\n",
    "    # '기술 지원' 과 '기술'은 동일하다고 해석\n",
    "    data['inquiry_type'] = data['inquiry_type'].str.replace('technical support', 'technical')\n",
    "\n",
    "    # '견적' 과 '결제'는 동일하다고 해석\n",
    "    data['inquiry_type'] = data['inquiry_type'].str.replace('quotation or purchase', 'purchase')\n",
    "    data['inquiry_type'] = data['inquiry_type'].str.replace('purchase or quotation', 'purchase')\n",
    "    data['inquiry_type'] = data['inquiry_type'].str.replace('quotation', 'purchase')\n",
    "    data['inquiry_type'] = data['inquiry_type'].str.replace('purchase ', 'purchase')\n",
    "\n",
    "    # '판매 문의'와 '판매'는 동일하다 해석\n",
    "    data['inquiry_type'] = data['inquiry_type'].str.replace('sales inquiry', 'sales')\n",
    "\n",
    "    # 기타 (Others, Other, etc.) 묶기\n",
    "    data['inquiry_type'] = data['inquiry_type'].str.replace('others', 'other')\n",
    "    data['inquiry_type'] = data['inquiry_type'].str.replace('etc.', 'other')\n",
    "    data['inquiry_type'] = data['inquiry_type'].str.replace('other ', 'other')\n",
    "\n",
    "    # '~~에 대한 문의'라는 문장 제거\n",
    "    data['inquiry_type'] = data['inquiry_type'].str.replace('request for ', '')\n",
    "\n",
    "    value_counts_ = data['inquiry_type'].value_counts()\n",
    "    to_replace = value_counts_[value_counts_ <= 2].index\n",
    "    data['inquiry_type'] = data['inquiry_type'].apply(lambda x: 'other' if x in to_replace else x)\n",
    "    return data\n",
    "\n",
    "\n",
    "def switch_country(df):\n",
    "    world_list = ['Afghanistan', 'Albania', 'Algeria', 'Andorra', 'Angola', 'Antigua', 'Argentina', 'Armenia', 'Australia', 'Austria', 'Azerbaijan', 'Bahamas', 'Bahrain', 'Bangladesh', 'Barbados', 'Belarus', 'Belgium', 'Belize', 'Benin', 'Bhutan', 'Bolivia', 'Bosnia and Herzegovina', 'Botswana', 'Brazil', 'Brunei', 'Bulgaria', 'Burkina', 'Burundi', 'Cambodia', 'Cameroon', 'Canada', 'Cape Verde', 'Central African Rep', 'Chad', 'Chile', 'China', 'Colombia', 'Comoros', 'Congo', 'Costa Rica', 'Croatia', 'Cuba', 'Cyprus', 'Czech', 'Denmark', 'Djibouti', 'Dominica', 'Dominican Republic', 'East Timor', 'Ecuador', 'Egypt', 'El Salvador', 'Equatorial Guinea', 'Eritrea', 'Estonia', 'Ethiopia', 'Fiji', 'Finland', 'France', 'Gabon', 'Gambia', 'Georgia', 'Germany', 'Ghana', 'Greece', 'Grenada', 'Guatemala', 'Guinea', 'Guinea-Bissau', 'Guyana', 'Haiti', 'Honduras', 'Hungary', 'Hong Kong', 'Iceland', 'India', 'Indonesia', 'Iran', 'Iraq', 'Ireland', 'Israel', 'Italy', 'Ivory Coast', 'Jamaica', 'Japan', 'Jordan', 'Kazakhstan', 'Kenya', 'Kiribati', 'North Korea', 'South Korea', 'Kosovo', 'Kuwait', 'Kyrgyzstan', 'Laos', 'Latvia', 'Lebanon', 'Lesotho', 'Liberia', 'Libya', 'Liechtenstein', 'Lithuania', 'Luxembourg', 'Macedonia', 'Madagascar', 'Malawi', 'Malaysia', 'Maldives', 'Mali', 'Malta', 'Marshall Islands', 'Mauritania', 'Mauritius', 'Mexico', 'Micronesia', 'Moldova', 'Monaco', 'Mongolia', 'Montenegro', 'Morocco', 'Mozambique', 'Myanmar', 'Namibia', 'Nauru', 'Nepal', 'Netherlands', 'New Zealand', 'Nicaragua', 'Niger', 'Nigeria', 'Norway', 'Oman', 'Pakistan', 'Palau', 'Panama', 'Papua New Guinea', 'Paraguay', 'Peru', 'Philippines', 'Poland', 'Portugal', 'Puerto Rico', 'Qatar', 'Romania', 'Russian Federation', 'Rwanda', 'Saint Kitts and Nevis', 'St Lucia', 'Saint Vincent & the Grenadines', 'Samoa', 'San Marino', 'Sao Tome and Principe', 'Saudi Arabia', 'Senegal', 'Serbia', 'Seychelles', 'Sierra Leone', 'Singapore', 'Slovakia', 'Slovenia', 'Solomon Islands', 'Somalia', 'South Africa', 'South Sudan', 'Spain', 'Sri Lanka', 'Sudan', 'Suriname', 'Swaziland', 'Sweden', 'Switzerland', 'Syria', 'Taiwan', 'Tajikistan', 'Tanzania', 'Thailand', 'Togo', 'Tonga', 'Trinidad & Tobago', 'Tunisia', 'Turkey', 'Türkiye', 'Turkmenistan', 'Tuvalu', 'Uganda', 'Ukraine', 'U.A.E', 'UAE', 'United Kingdom', 'United States', 'US', 'USA', 'Uruguay', 'Uzbekistan', 'Vanuatu', 'Vatican City', 'Venezuela', 'Vietnam', 'Yemen', 'Zambia', 'Zimbabwe']\n",
    "\n",
    "    countries = []\n",
    "\n",
    "    for country in list(df['customer_country']):\n",
    "        try:\n",
    "            split_ = country.split('/')\n",
    "        except:\n",
    "            if type(country) == float:\n",
    "                countries.append('other')\n",
    "            continue\n",
    "\n",
    "        found = False\n",
    "\n",
    "        for c in world_list:\n",
    "            if c.upper() in country.upper():\n",
    "                found = True\n",
    "\n",
    "                if c.upper() == 'UAE':\n",
    "                    countries.append('U.A.E')\n",
    "                elif c.upper() == 'US':\n",
    "                    countries.append('United States')\n",
    "                elif c == 'Türkiye':\n",
    "                    countries.append('Turkey')\n",
    "                else:\n",
    "                    countries.append(c)\n",
    "                break\n",
    "\n",
    "        if not found:\n",
    "            countries.append('other')\n",
    "\n",
    "    df['customer_country'] = countries\n",
    "    df.drop(['customer_country.1'], inplace=True, axis=1)\n",
    "    return df\n",
    "\n",
    "\n",
    "def customer_type(data: pd.DataFrame) -> pd.DataFrame:\n",
    "\n",
    "    # 소문자 치환\n",
    "    data['customer_type'] = data['customer_type'].str.lower()\n",
    "\n",
    "    # - 문자 제거\n",
    "    data['customer_type'] = data['customer_type'].str.replace('-', ' ')\n",
    "\n",
    "    # '기타' 통합\n",
    "    data['customer_type'] = data['customer_type'].str.replace('others', 'other')\n",
    "    data['customer_type'] = data['customer_type'].str.replace('etc.', 'other')\n",
    "\n",
    "    # '/' 문자 삭제\n",
    "    data['customer_type'] = data['customer_type'].str.replace('/', ' ')\n",
    "    data['customer_type'] = data['customer_type'].str.replace('  ', ' ')\n",
    "    data['customer_type'] = data['customer_type'].str.replace('  ', ' ')\n",
    "\n",
    "    # 'Home owner'와 'Homeowner' 통합\n",
    "    data['customer_type'] = data['customer_type'].str.replace('homeowner', 'home owner')\n",
    "    return data\n",
    "\n",
    "\n",
    "def product_category(data: pd.DataFrame):\n",
    "    # 소문자로 치환\n",
    "    data['product_category'] = data['product_category'].str.lower()\n",
    "\n",
    "    # Other 처리 (다국어로 되어 있는 경우가 있음)\n",
    "    data['product_category'] = data['product_category'].replace(\n",
    "        ['outros', 'lainnya', 'otros', 'others', 'etc.', 'autre', 'khác', 'ฯลฯ'], 'other')\n",
    "    data['product_category'] = data['product_category'].replace(['אחר'], 'other')\n",
    "\n",
    "    # lg 제거 ('lg one'과 'one'의 결합)\n",
    "    data['product_category'] = data['product_category'].str.replace('lg ', '')\n",
    "\n",
    "    # 복수형 삭제\n",
    "    data['product_category'] = data['product_category'].replace(\n",
    "        ['medical displays', 'medical display', 'medical monitors', 'medical  surgical'], 'medical monitor')\n",
    "    data['product_category'] = data['product_category'].str.replace('medical  surgical', 'medical monitor')\n",
    "\n",
    "    # : 문자 제거\n",
    "    data['product_category'] = data['product_category'].str.replace(':', '')\n",
    "    data['product_category'] = data['product_category'].str.replace('-', ' ')\n",
    "\n",
    "    # onequick 합치기\n",
    "    data['product_category'] = data['product_category'].str.replace('onequick series', 'onequick')\n",
    "    data['product_category'] = data['product_category'].str.replace('one quickflex', 'onequick')\n",
    "    data['product_category'] = data['product_category'].str.replace('onequick flex', 'onequick')\n",
    "    data['product_category'] = data['product_category'].str.replace('one quick works', 'onequick')\n",
    "\n",
    "    # VRF 합치기\n",
    "    data['product_category'] = data['product_category'].str.replace('نظام التدفق المتغيرvrf', 'vrf')\n",
    "    data['product_category'] = data['product_category'].replace(\n",
    "        ['multi v5 vrf', 'multi v 5 air', 'vrf   multi v s', 'all vrf systems', 'kimatyzacja vrf', 'multi v',\n",
    "         'multi v water 5', 'ahu', 'điều hòa trung tâm vrf'], 'vrf')\n",
    "\n",
    "    # commercial displays -> commercial display\n",
    "    data['product_category'] = data['product_category'].str.replace('commercial displays', 'commercial display')\n",
    "\n",
    "    # signage care solutions => signage care solution\n",
    "    data['product_category'] = data['product_category'].replace(['signage care solutions'], 'signage care solution')\n",
    "\n",
    "    # TV 품명으로 되어 있는 데이터 합치기\n",
    "    # 1. Commercial Displays\n",
    "    data['product_category'] = data['product_category'].replace(['49vl5f', '49vl5g m', 'ur640s', 'ur640'],\n",
    "                                                                'commercial display')\n",
    "\n",
    "    # 2. Commercial TV\n",
    "    data['product_category'] = data['product_category'].str.replace('ur640s', 'commercial tv')\n",
    "    data['product_category'] = data['product_category'].str.replace('comercial tv', 'commercial tv')\n",
    "    data['product_category'] = data['product_category'].replace(\n",
    "        ['50uq801c0sb.bwz', '50us660h0sd.bwz', '55uq801c0sb.bwz', '55us660h0sd.bwz', '43uq751c0sb.bwz',\n",
    "         '43uq751c0sf.bwz'], 'commercial tv')\n",
    "\n",
    "    # 3. Monitor\n",
    "    data['product_category'] = data['product_category'].replace(['28mq780'], 'monitor')\n",
    "\n",
    "    # 4. Projecter\n",
    "    data['product_category'] = data['product_category'].replace(['bu50nst'], 'projector')\n",
    "\n",
    "    # 5. Led signage\n",
    "    data['product_category'] = data['product_category'].replace(['gsca046', 'gscd046', 'gscd100'], 'led signage')\n",
    "\n",
    "    # UHD signage\n",
    "    data['product_category'] = data['product_category'].replace(['86uh5f', '98uh5e'], 'uhd signage')\n",
    "\n",
    "    # video wall\n",
    "    data['product_category'] = data['product_category'].replace(['55vm5e a', '55vm5j h', '55svh7f a', '49vl5g m.awzm'],\n",
    "                                                                'video wall')\n",
    "\n",
    "    # 중국어 -> 영어\n",
    "    data['product_category'] = data['product_category'].replace(['oled 顯示屏'], 'oled signage')\n",
    "    data['product_category'] = data['product_category'].replace(['led 顯示屏'], 'led signage')\n",
    "    data['product_category'] = data['product_category'].replace(['互動式顯示屏'], 'interactive signage')\n",
    "\n",
    "    # 주택용 에어컨, 주거용 에어컨\n",
    "    data['product_category'] = data['product_category'].replace(\n",
    "        ['ar condicionado residencial', 'ac rumah', 'climatiseur résidentiel', 'เครื่องปรับอากาศเผื่อที่อยู่อาศัย',\n",
    "         'aire acondicionado residencial', 'điều hòa gia dụng'], 'residential air conditioner')\n",
    "\n",
    "    data['product_category'] = data['product_category'].replace(['מזגנים למקום מגורים'], 'residential air conditioner')\n",
    "\n",
    "    # 호텔용 티비 (酒店電視 - 중국어)\n",
    "    data['product_category'] = data['product_category'].replace(\n",
    "        ['hoteleria_us670h', '酒店電視', '43us660h0sd.awz', 'hospitality', 'htv', '43us660h (na)'], 'hotel tv')\n",
    "\n",
    "    # high brightness signage (high brightness signage 부류 중 제일 많음)\n",
    "    data['product_category'] = data['product_category'].replace(['high brightness', '高亮度顯示屏'],\n",
    "                                                                'high brightness signage')\n",
    "\n",
    "    # Multi-split\n",
    "    data['product_category'] = data['product_category'].replace(\n",
    "        ['multi split (plusieurs pièces)', 'klimatyzacja multi split', 'multi inverter'], 'multi split')\n",
    "    data['product_category'] = data['product_category'].replace(['פיצול מרובה'], 'multi split')\n",
    "\n",
    "    # heating (isıtma - 터키어 난방) (ogrzewanie (pompy ciepła) - 폴란드어), (calefacción  - 스페인어) (aquecimento = 포르투칼어)\n",
    "    data['product_category'] = data['product_category'].replace(\n",
    "        ['isıtma', 'ogrzewanie (pompy ciepła)', 'calefacción', 'aquecimento'], 'heating')\n",
    "    data['product_category'] = data['product_category'].replace(['حلول التدفئة'], 'heating')\n",
    "    data['product_category'] = data['product_category'].replace(['חימום'], 'heating')\n",
    "\n",
    "    # chiller (soğutucu - 터키어 냉각기)\n",
    "    data['product_category'] = data['product_category'].replace(['soğutucu'], 'chiller')\n",
    "    data['product_category'] = data['product_category'].replace(['مبرد (تشيلر)'], 'chiller')\n",
    "\n",
    "    # hospital tv\n",
    "    data['product_category'] = data['product_category'].replace(['醫院電視'], 'hospital tv')\n",
    "\n",
    "    # standard display (standard display 부류 중 제일 많음)\n",
    "    data['product_category'] = data['product_category'].replace(['標準顯示屏', 'standard', 'standard display'],\n",
    "                                                                'standard signage')\n",
    "\n",
    "    # software\n",
    "    data['product_category'] = data['product_category'].replace(['軟體'], 'software solution')\n",
    "\n",
    "    # special signage\n",
    "    data['product_category'] = data['product_category'].replace(['特別顯示屏'], 'special signage')\n",
    "\n",
    "    ## ===== 동일 모델별 분류 =====\n",
    "    # interactive signage 를 interactive digital board 로 귀속 (동일한 모델명 존재) (standard display 부류 중 제일 많음)\n",
    "    data['product_category'] = data['product_category'].replace(['interactive signage', '55tc3d'],\n",
    "                                                                'interactive digital board')\n",
    "    # idb 를 interactive digital board 로 귀속 (동일한 모델명 존재 + IDB는 interactive digital board의 약어일 가능성)\n",
    "    data['product_category'] = data['product_category'].replace(['idb'], 'interactive digital board')\n",
    "\n",
    "    # commercial tv 를 commercial display 로 귀속 (동일한 모델명 존재) (commercial display 부류 중 제일 많음)\n",
    "    data['product_category'] = data['product_category'].replace(['commercial tv'], 'commercial display')\n",
    "\n",
    "    # video wall signage 귀속 (video wall signage 부류 중 제일 많음)\n",
    "    data['product_category'] = data['product_category'].replace(\n",
    "        ['videwall', 'videowall', 'videowall_rmk', 'videowall signage', 'video wall', '110 + video wall'],\n",
    "        'video wall signage')\n",
    "\n",
    "    # tv 귀속 (tv 부류 중 제일 많음)\n",
    "    data['product_category'] = data['product_category'].replace(['tv signage', 'tv 60\"', 'tv 55\"', 'tv 43 pol'], 'tv')\n",
    "\n",
    "    # smart TV\n",
    "    data['product_category'] = data['product_category'].replace(['smart tv'], 'smart tv signage')\n",
    "\n",
    "    return data\n",
    "\n",
    "\n",
    "def customer_job(data: pd.DataFrame):\n",
    "    data['customer_job'] = data['customer_job'].fillna('unknown')\n",
    "    data['customer_job'] = data['customer_job'].str.lower()\n",
    "    data['customer_job'] = data['customer_job'].str.replace('-', '')\n",
    "    data['customer_job'] = data['customer_job'].str.replace('_', '')\n",
    "    data['customer_job'] = data['customer_job'].str.replace(' ', '')\n",
    "\n",
    "    # 'information'가 포함된 카테고리를 'information technology'로 귀속\n",
    "    data['customer_job'] = data['customer_job'].apply(lambda x: 'informationtechnology' if 'information' in x else x)\n",
    "\n",
    "    # 'design'이나 'art' 포함된 카테고리를 'arts and design'로 귀속\n",
    "    data['customer_job'] = data['customer_job'].apply(lambda x: 'artsanddesign' if 'design' in x or 'art' in x else x)\n",
    "\n",
    "    # 'consult'가 포함된 카테고리를 'consulting'로 귀속\n",
    "    data['customer_job'] = data['customer_job'].apply(lambda x: 'consulting' if 'consult' in x else x)\n",
    "\n",
    "    # 'architect'가 포함된 카테고리를 'architect'로 귀속\n",
    "    data['customer_job'] = data['customer_job'].apply(lambda x: 'architect' if 'architect' in x else x)\n",
    "\n",
    "    # 'technical'가 포함된 카테고리를 'technical'로 귀속\n",
    "    data['customer_job'] = data['customer_job'].apply(lambda x: 'technical' if 'technical' in x else x)\n",
    "\n",
    "    # 'engineer'나 'engineering' 포함된 카테고리를 'engineering'로 귀속\n",
    "    data['customer_job'] = data['customer_job'].apply(\n",
    "        lambda x: 'engineering' if 'engineer' in x or 'engineering' in x else x)\n",
    "\n",
    "    # 'project'나 'projekt'가 포함된 카테고리를 'programandprojectmanagement'로 귀속\n",
    "    data['customer_job'] = data['customer_job'].apply(\n",
    "        lambda x: 'programandprojectmanagement' if 'project' in x or 'projekt' in x else x)\n",
    "\n",
    "    # 'marketing'가 포함된 카테고리를 'marketing'로 귀속\n",
    "    data['customer_job'] = data['customer_job'].apply(lambda x: 'marketing' if 'marketing' in x else x)\n",
    "\n",
    "    # 'purchase'가 포함된 카테고리를 'purchasing'로 귀속\n",
    "    data['customer_job'] = data['customer_job'].apply(lambda x: 'purchasing' if 'purchase' in x else x)\n",
    "\n",
    "    # 'research'가 포함된 카테고리를 'research'로 귀속\n",
    "    data['customer_job'] = data['customer_job'].apply(lambda x: 'research' if 'research' in x else x)\n",
    "\n",
    "    # 'sales'가 포함된 카테고리를 'sales'로 귀속\n",
    "    data['customer_job'] = data['customer_job'].apply(lambda x: 'sales' if 'sales' in x\n",
    "                                                                           or 'vendite' in x\n",
    "                                                                           or 'vertrieb' in x\n",
    "    else x)\n",
    "\n",
    "    # entrepreneurship 카테고리에 owner, ceo/founder, ceo 귀속\n",
    "    data['customer_job'] = data['customer_job'].str.replace('owner', 'entrepreneurship')\n",
    "    data['customer_job'] = data['customer_job'].str.replace('ceo/founder', 'entrepreneurship')\n",
    "    data['customer_job'] = data['customer_job'].str.replace('ceo', 'entrepreneurship')\n",
    "\n",
    "    # education 카테고리에 귀속\n",
    "    data['customer_job'] = data['customer_job'].str.replace('highereducation(college&university)', 'education')\n",
    "    data['customer_job'] = data['customer_job'].str.replace('institute&academy', 'education')\n",
    "    data['customer_job'] = data['customer_job'].str.replace('educator', 'education')\n",
    "\n",
    "    # purchasing 카테고리에 buyer, purchaser 귀속\n",
    "    data['customer_job'] = data['customer_job'].str.replace('buyer', 'purchasing')\n",
    "    data['customer_job'] = data['customer_job'].str.replace('purchaser', 'purchasing')\n",
    "\n",
    "    # other 카테고리에 sonstiges, otro, others 귀속\n",
    "    data['customer_job'] = data['customer_job'].str.replace('sonstiges', 'other')\n",
    "    data['customer_job'] = data['customer_job'].str.replace('otro', 'other')\n",
    "    data['customer_job'] = data['customer_job'].str.replace('others', 'other')\n",
    "    data['customer_job'] = data['customer_job'].str.replace('egyéb', 'other')\n",
    "    data['customer_job'] = data['customer_job'].str.replace('othertores', 'other')\n",
    "\n",
    "    # generalmanager 카테고리에 gm, general management 귀속\n",
    "    data['customer_job'] = data['customer_job'].str.replace('gm', 'generalmanager')\n",
    "    data['customer_job'] = data['customer_job'].str.replace('generalmanagement', 'generalmanager')\n",
    "\n",
    "    # mediaandcommunication 카테고리에 medien und kommunikation, médiaéskommunikáció 귀속\n",
    "    data['customer_job'] = data['customer_job'].str.replace('medienundkommunikation', 'mediaandcommunication')\n",
    "    data['customer_job'] = data['customer_job'].str.replace('médiaéskommunikáció', 'mediaandcommunication')\n",
    "    data['customer_job'] = data['customer_job'].str.replace('mediaecomunicazione', 'mediaandcommunication')\n",
    "\n",
    "    # finance 카테고리에 pénzügy, finanzen 귀속\n",
    "    data['customer_job'] = data['customer_job'].str.replace('pénzügy', 'finance')\n",
    "    data['customer_job'] = data['customer_job'].str.replace('finanzen', 'finance')\n",
    "\n",
    "    # reseller 카테고리에 revendedor 귀속\n",
    "    data['customer_job'] = data['customer_job'].str.replace('revendedor', 'reseller')\n",
    "\n",
    "    value_counts_ = data['customer_job'].value_counts()\n",
    "    to_replace = value_counts_[value_counts_ <= 2].index\n",
    "    data['customer_job'] = data['customer_job'].apply(lambda x: 'other' if x in to_replace else x)\n",
    "\n",
    "    return data\n",
    "\n",
    "\n",
    "def customer_position(data: pd.DataFrame):\n",
    "    data['customer_position'] = data['customer_position'].fillna('unknown')\n",
    "    data['customer_position'] = data['customer_position'].str.lower()\n",
    "    data['customer_position'] = data['customer_position'].str.replace('-', '')\n",
    "    data['customer_position'] = data['customer_position'].str.replace('_', '')\n",
    "    data['customer_position'] = data['customer_position'].str.replace(' ', '')\n",
    "\n",
    "    # entry level 카테고리에 intern 귀속\n",
    "    data['customer_position'] = data['customer_position'].str.replace('intern', 'entrylevel')\n",
    "\n",
    "    # other 카테고리에 others 귀속\n",
    "    data['customer_position'] = data['customer_position'].str.replace('others', 'other')\n",
    "\n",
    "    # trainee 카테고리에 unpaid 귀속\n",
    "    data['customer_position'] = data['customer_position'].str.replace('unpaid', 'trainee')\n",
    "\n",
    "    # Commercial end-user를 end user 카테고리로 묶기\n",
    "    data['customer_position'] = data['customer_position'].str.replace('commercial', '')\n",
    "\n",
    "    # ceo 카테고리에 founder와 ceo 모두 귀속\n",
    "    data['customer_position'] = data['customer_position'].apply(lambda x: 'ceo' if 'founder' in x else x)\n",
    "\n",
    "    # no influence = not applicable, none, other 하나로 묶기\n",
    "    data['customer_position'] = data['customer_position'].str.replace('notapplicable', 'noinfluence')\n",
    "    data['customer_position'] = data['customer_position'].str.replace('none', 'noinfluence')\n",
    "    data['customer_position'] = data['customer_position'].str.replace('other', 'noinfluence')\n",
    "\n",
    "    value_counts_ = data['customer_position'].value_counts()\n",
    "    to_replace = value_counts_[value_counts_ <= 1].index\n",
    "    data['customer_position'] = data['customer_position'].apply(lambda x: 'other' if x in to_replace else x)\n",
    "\n",
    "    return data"
   ]
  },
  {
   "cell_type": "code",
   "execution_count": 7,
   "id": "e498e52394627d7f",
   "metadata": {
    "ExecuteTime": {
     "end_time": "2024-02-18T15:32:08.617529500Z",
     "start_time": "2024-02-18T15:32:08.597530100Z"
    }
   },
   "outputs": [],
   "source": [
    "def data_processing(df: pd.DataFrame) -> pd.DataFrame:\n",
    "    df['historical_existing_cnt'].fillna(0, inplace=True)\n",
    "\n",
    "    df['ver_win_ratio_per_bu'].fillna(0, inplace=True)\n",
    "    df['com_reg_ver_win_rate'].fillna(0, inplace=True)\n",
    "    \n",
    "    df = switch_country(df)\n",
    "    df = inquery_types(df)\n",
    "    df = customer_type(df)\n",
    "    df = product_category(df)\n",
    "    df = customer_job(df)\n",
    "    df = customer_position(df)\n",
    "    \n",
    "    df.drop(['id_strategic_ver', 'it_strategic_ver', 'idit_strategic_ver', 'ver_cus', 'ver_pro'],axis=1, inplace=True)\n",
    "    \n",
    "    return df"
   ]
  },
  {
   "cell_type": "code",
   "execution_count": 8,
   "id": "d946ec7eb50a3021",
   "metadata": {
    "ExecuteTime": {
     "end_time": "2024-02-18T15:32:13.051200300Z",
     "start_time": "2024-02-18T15:32:11.434612Z"
    }
   },
   "outputs": [],
   "source": [
    "df_train = data_processing(df_train)\n",
    "df_test = data_processing(df_test)"
   ]
  },
  {
   "cell_type": "code",
   "execution_count": 9,
   "id": "3aef3ff066d2fdc9",
   "metadata": {
    "ExecuteTime": {
     "end_time": "2024-02-18T15:32:15.937962Z",
     "start_time": "2024-02-18T15:32:15.917255200Z"
    }
   },
   "outputs": [],
   "source": [
    "def label_encoding(series: pd.Series) -> pd.Series:\n",
    "    \"\"\"범주형 데이터를 시리즈 형태로 받아 숫자형 데이터로 변환합니다.\"\"\"\n",
    "\n",
    "    my_dict = {}\n",
    "\n",
    "    # 모든 요소를 문자열로 변환\n",
    "    series = series.astype(str)\n",
    "\n",
    "    for idx, value in enumerate(sorted(series.unique())):\n",
    "        my_dict[value] = idx\n",
    "    series = series.map(my_dict)\n",
    "\n",
    "    return series"
   ]
  },
  {
   "cell_type": "code",
   "execution_count": 10,
   "id": "75ca45b9b2cf573",
   "metadata": {
    "ExecuteTime": {
     "end_time": "2024-02-18T15:32:18.792366800Z",
     "start_time": "2024-02-18T15:32:18.684304300Z"
    }
   },
   "outputs": [],
   "source": [
    "# 레이블 인코딩할 칼럼들\n",
    "label_columns = [\n",
    "    \"customer_country\",\n",
    "    \"business_subarea\",\n",
    "    \"business_area\",\n",
    "    \"business_unit\",\n",
    "    \"customer_type\",\n",
    "    \"enterprise\",\n",
    "    \"customer_job\",\n",
    "    \"inquiry_type\",\n",
    "    \"customer_position\",\n",
    "    \"response_corporate\",\n",
    "    \"expected_timeline\",\n",
    "    \"product_category\",\n",
    "    \"product_subcategory\",\n",
    "    \"product_modelname\",\n",
    "]\n",
    "\n",
    "df_all = pd.concat([df_train[label_columns], df_test[label_columns]])\n",
    "\n",
    "for col in label_columns:\n",
    "    df_all[col] = label_encoding(df_all[col])"
   ]
  },
  {
   "cell_type": "code",
   "execution_count": 11,
   "id": "89cf2d8731a7451d",
   "metadata": {
    "ExecuteTime": {
     "end_time": "2024-02-18T15:32:23.938636Z",
     "start_time": "2024-02-18T15:32:23.897636400Z"
    }
   },
   "outputs": [],
   "source": [
    "for col in label_columns:  \n",
    "    df_train[col] = df_all.iloc[: len(df_train)][col]\n",
    "    df_test[col] = df_all.iloc[len(df_train) :][col]"
   ]
  },
  {
   "cell_type": "code",
   "execution_count": 12,
   "id": "940775846ad8c0b8",
   "metadata": {
    "ExecuteTime": {
     "end_time": "2024-02-18T15:32:27.150303800Z",
     "start_time": "2024-02-18T15:32:27.129757600Z"
    }
   },
   "outputs": [],
   "source": [
    "x_train = df_train.drop('is_converted', axis=1)\n",
    "y_train = df_train['is_converted']"
   ]
  },
  {
   "cell_type": "code",
   "execution_count": 13,
   "id": "d0a2356c93ec23f5",
   "metadata": {
    "ExecuteTime": {
     "end_time": "2024-02-18T15:33:37.025347Z",
     "start_time": "2024-02-18T15:33:37.010346800Z"
    }
   },
   "outputs": [],
   "source": [
    "def get_clf_eval(y_test, y_pred=None):\n",
    "    confusion = confusion_matrix(y_test, y_pred, labels=[True, False])\n",
    "    accuracy = accuracy_score(y_test, y_pred)\n",
    "    precision = precision_score(y_test, y_pred, labels=[True, False])\n",
    "    recall = recall_score(y_test, y_pred)\n",
    "    F1 = f1_score(y_test, y_pred, labels=[True, False])\n",
    "\n",
    "    print(\"오차행렬:\\n\", confusion)\n",
    "    print(\"\\n정확도: {:.4f}\".format(accuracy))\n",
    "    print(\"정밀도: {:.4f}\".format(precision))\n",
    "    print(\"재현율: {:.4f}\".format(recall))\n",
    "    print(\"F1: {:.4f}\".format(F1))"
   ]
  },
  {
   "cell_type": "markdown",
   "id": "184f401874e77e78",
   "metadata": {},
   "source": [
    "## Data Split"
   ]
  },
  {
   "cell_type": "code",
   "execution_count": 14,
   "id": "a74b025aa275a94b",
   "metadata": {
    "ExecuteTime": {
     "end_time": "2024-02-18T15:33:13.135083900Z",
     "start_time": "2024-02-18T15:33:13.096115800Z"
    }
   },
   "outputs": [],
   "source": [
    "x_train, x_val, y_train, y_val = train_test_split(\n",
    "    df_train.drop(\"is_converted\", axis=1),\n",
    "    df_train[\"is_converted\"],\n",
    "    test_size=0.1,\n",
    "    shuffle=True,\n",
    "    random_state=100,\n",
    "    stratify=df_train[\"is_converted\"]\n",
    ")"
   ]
  },
  {
   "cell_type": "markdown",
   "id": "932f3f18f5fdea97",
   "metadata": {},
   "source": [
    "# LightGBM"
   ]
  },
  {
   "cell_type": "code",
   "execution_count": 15,
   "id": "7d6aec17cbb402d1",
   "metadata": {
    "ExecuteTime": {
     "end_time": "2024-02-18T15:36:52.573231300Z",
     "start_time": "2024-02-18T15:36:52.563231500Z"
    }
   },
   "outputs": [],
   "source": [
    "lgb_param = {\n",
    "    \"objective\": \"binary\",\n",
    "    \"metric\": \"average_precision\",\n",
    "    \"random_state\": CFG['SEED'],\n",
    "    \"boost_from_average\":False,\n",
    "    \"scale_pos_weight\" : 11,\n",
    "    'n_estimators': 150,\n",
    "    'num_leaves': 20\n",
    "}\n",
    "\n",
    "lgb_model = lgb.sklearn.LGBMClassifier(**lgb_param)"
   ]
  },
  {
   "cell_type": "code",
   "execution_count": 16,
   "id": "a072ca994459729",
   "metadata": {
    "ExecuteTime": {
     "end_time": "2024-02-18T15:36:53.311938500Z",
     "start_time": "2024-02-18T15:36:53.140392400Z"
    }
   },
   "outputs": [
    {
     "name": "stdout",
     "output_type": "stream",
     "text": [
      "[LightGBM] [Info] Number of positive: 4365, number of negative: 49004\n",
      "[LightGBM] [Info] Auto-choosing row-wise multi-threading, the overhead of testing was 0.003671 seconds.\n",
      "You can set `force_row_wise=true` to remove the overhead.\n",
      "And if memory is not enough, you can set `force_col_wise=true`.\n",
      "[LightGBM] [Info] Total Bins 2138\n",
      "[LightGBM] [Info] Number of data points in the train set: 53369, number of used features: 22\n"
     ]
    },
    {
     "data": {
      "text/html": [
       "<style>#sk-container-id-1 {color: black;background-color: white;}#sk-container-id-1 pre{padding: 0;}#sk-container-id-1 div.sk-toggleable {background-color: white;}#sk-container-id-1 label.sk-toggleable__label {cursor: pointer;display: block;width: 100%;margin-bottom: 0;padding: 0.3em;box-sizing: border-box;text-align: center;}#sk-container-id-1 label.sk-toggleable__label-arrow:before {content: \"▸\";float: left;margin-right: 0.25em;color: #696969;}#sk-container-id-1 label.sk-toggleable__label-arrow:hover:before {color: black;}#sk-container-id-1 div.sk-estimator:hover label.sk-toggleable__label-arrow:before {color: black;}#sk-container-id-1 div.sk-toggleable__content {max-height: 0;max-width: 0;overflow: hidden;text-align: left;background-color: #f0f8ff;}#sk-container-id-1 div.sk-toggleable__content pre {margin: 0.2em;color: black;border-radius: 0.25em;background-color: #f0f8ff;}#sk-container-id-1 input.sk-toggleable__control:checked~div.sk-toggleable__content {max-height: 200px;max-width: 100%;overflow: auto;}#sk-container-id-1 input.sk-toggleable__control:checked~label.sk-toggleable__label-arrow:before {content: \"▾\";}#sk-container-id-1 div.sk-estimator input.sk-toggleable__control:checked~label.sk-toggleable__label {background-color: #d4ebff;}#sk-container-id-1 div.sk-label input.sk-toggleable__control:checked~label.sk-toggleable__label {background-color: #d4ebff;}#sk-container-id-1 input.sk-hidden--visually {border: 0;clip: rect(1px 1px 1px 1px);clip: rect(1px, 1px, 1px, 1px);height: 1px;margin: -1px;overflow: hidden;padding: 0;position: absolute;width: 1px;}#sk-container-id-1 div.sk-estimator {font-family: monospace;background-color: #f0f8ff;border: 1px dotted black;border-radius: 0.25em;box-sizing: border-box;margin-bottom: 0.5em;}#sk-container-id-1 div.sk-estimator:hover {background-color: #d4ebff;}#sk-container-id-1 div.sk-parallel-item::after {content: \"\";width: 100%;border-bottom: 1px solid gray;flex-grow: 1;}#sk-container-id-1 div.sk-label:hover label.sk-toggleable__label {background-color: #d4ebff;}#sk-container-id-1 div.sk-serial::before {content: \"\";position: absolute;border-left: 1px solid gray;box-sizing: border-box;top: 0;bottom: 0;left: 50%;z-index: 0;}#sk-container-id-1 div.sk-serial {display: flex;flex-direction: column;align-items: center;background-color: white;padding-right: 0.2em;padding-left: 0.2em;position: relative;}#sk-container-id-1 div.sk-item {position: relative;z-index: 1;}#sk-container-id-1 div.sk-parallel {display: flex;align-items: stretch;justify-content: center;background-color: white;position: relative;}#sk-container-id-1 div.sk-item::before, #sk-container-id-1 div.sk-parallel-item::before {content: \"\";position: absolute;border-left: 1px solid gray;box-sizing: border-box;top: 0;bottom: 0;left: 50%;z-index: -1;}#sk-container-id-1 div.sk-parallel-item {display: flex;flex-direction: column;z-index: 1;position: relative;background-color: white;}#sk-container-id-1 div.sk-parallel-item:first-child::after {align-self: flex-end;width: 50%;}#sk-container-id-1 div.sk-parallel-item:last-child::after {align-self: flex-start;width: 50%;}#sk-container-id-1 div.sk-parallel-item:only-child::after {width: 0;}#sk-container-id-1 div.sk-dashed-wrapped {border: 1px dashed gray;margin: 0 0.4em 0.5em 0.4em;box-sizing: border-box;padding-bottom: 0.4em;background-color: white;}#sk-container-id-1 div.sk-label label {font-family: monospace;font-weight: bold;display: inline-block;line-height: 1.2em;}#sk-container-id-1 div.sk-label-container {text-align: center;}#sk-container-id-1 div.sk-container {/* jupyter's `normalize.less` sets `[hidden] { display: none; }` but bootstrap.min.css set `[hidden] { display: none !important; }` so we also need the `!important` here to be able to override the default hidden behavior on the sphinx rendered scikit-learn.org. See: https://github.com/scikit-learn/scikit-learn/issues/21755 */display: inline-block !important;position: relative;}#sk-container-id-1 div.sk-text-repr-fallback {display: none;}</style><div id=\"sk-container-id-1\" class=\"sk-top-container\"><div class=\"sk-text-repr-fallback\"><pre>LGBMClassifier(boost_from_average=False, metric=&#x27;average_precision&#x27;,\n",
       "               n_estimators=150, num_leaves=20, objective=&#x27;binary&#x27;,\n",
       "               random_state=1813, scale_pos_weight=11)</pre><b>In a Jupyter environment, please rerun this cell to show the HTML representation or trust the notebook. <br />On GitHub, the HTML representation is unable to render, please try loading this page with nbviewer.org.</b></div><div class=\"sk-container\" hidden><div class=\"sk-item\"><div class=\"sk-estimator sk-toggleable\"><input class=\"sk-toggleable__control sk-hidden--visually\" id=\"sk-estimator-id-1\" type=\"checkbox\" checked><label for=\"sk-estimator-id-1\" class=\"sk-toggleable__label sk-toggleable__label-arrow\">LGBMClassifier</label><div class=\"sk-toggleable__content\"><pre>LGBMClassifier(boost_from_average=False, metric=&#x27;average_precision&#x27;,\n",
       "               n_estimators=150, num_leaves=20, objective=&#x27;binary&#x27;,\n",
       "               random_state=1813, scale_pos_weight=11)</pre></div></div></div></div></div>"
      ],
      "text/plain": [
       "LGBMClassifier(boost_from_average=False, metric='average_precision',\n",
       "               n_estimators=150, num_leaves=20, objective='binary',\n",
       "               random_state=1813, scale_pos_weight=11)"
      ]
     },
     "execution_count": 16,
     "metadata": {},
     "output_type": "execute_result"
    }
   ],
   "source": [
    "lgb_model.fit(x_train.fillna(0), y_train)"
   ]
  },
  {
   "cell_type": "code",
   "execution_count": 17,
   "id": "306a1d031a38e7b4",
   "metadata": {
    "ExecuteTime": {
     "end_time": "2024-02-18T15:37:23.446888200Z",
     "start_time": "2024-02-18T15:37:23.415892100Z"
    }
   },
   "outputs": [
    {
     "name": "stdout",
     "output_type": "stream",
     "text": [
      "오차행렬:\n",
      " [[ 465   20]\n",
      " [ 303 5142]]\n",
      "\n",
      "정확도: 0.9455\n",
      "정밀도: 0.6055\n",
      "재현율: 0.9588\n",
      "F1: 0.7422\n"
     ]
    }
   ],
   "source": [
    "lgb_pred = lgb_model.predict(x_val.fillna(0))\n",
    "get_clf_eval(y_val, lgb_pred)"
   ]
  },
  {
   "cell_type": "code",
   "execution_count": 18,
   "id": "60fde0401ce6f495",
   "metadata": {
    "ExecuteTime": {
     "end_time": "2024-02-18T15:37:24.728562100Z",
     "start_time": "2024-02-18T15:37:24.687561900Z"
    }
   },
   "outputs": [
    {
     "data": {
      "text/plain": [
       "array([[0.96346448, 0.03653552],\n",
       "       [0.50756058, 0.49243942],\n",
       "       [0.90867965, 0.09132035],\n",
       "       ...,\n",
       "       [0.99574171, 0.00425829],\n",
       "       [0.76691877, 0.23308123],\n",
       "       [0.98232405, 0.01767595]])"
      ]
     },
     "execution_count": 18,
     "metadata": {},
     "output_type": "execute_result"
    }
   ],
   "source": [
    "lgb_pred_proba = lgb_model.predict_proba(x_val.fillna(0))\n",
    "lgb_pred_proba"
   ]
  },
  {
   "cell_type": "markdown",
   "id": "3daafa47bf92fe55",
   "metadata": {},
   "source": [
    "## CatBoost"
   ]
  },
  {
   "cell_type": "code",
   "execution_count": 19,
   "id": "38c4ec3622496ea5",
   "metadata": {
    "ExecuteTime": {
     "end_time": "2024-02-18T15:35:29.051131Z",
     "start_time": "2024-02-18T15:35:29.042013200Z"
    }
   },
   "outputs": [],
   "source": [
    "catboost_param = {\n",
    "    'learning_rate': 0.045, \n",
    "    'depth': 6,\n",
    "    'loss_function': 'Logloss', \n",
    "    'eval_metric': 'F1',\n",
    "    'random_seed': CFG['SEED'], \n",
    "    'verbose': 200, \n",
    "    'scale_pos_weight': 30,\n",
    "    'iterations' : 4000,\n",
    "    'early_stopping_rounds': 100,\n",
    "}\n",
    "\n",
    "catboost_model = CatBoostClassifier(**catboost_param)"
   ]
  },
  {
   "cell_type": "code",
   "execution_count": 20,
   "id": "16621dec98d8711",
   "metadata": {
    "ExecuteTime": {
     "end_time": "2024-02-18T15:35:55.299354600Z",
     "start_time": "2024-02-18T15:35:29.856187600Z"
    }
   },
   "outputs": [
    {
     "name": "stdout",
     "output_type": "stream",
     "text": [
      "0:\tlearn: 0.9121671\ttest: 0.9158466\tbest: 0.9158466 (0)\ttotal: 168ms\tremaining: 11m 10s\n",
      "200:\tlearn: 0.9647323\ttest: 0.9645323\tbest: 0.9664348 (181)\ttotal: 11.1s\tremaining: 3m 30s\n",
      "400:\tlearn: 0.9740179\ttest: 0.9721467\tbest: 0.9721467 (400)\ttotal: 22.5s\tremaining: 3m 21s\n",
      "600:\tlearn: 0.9776924\ttest: 0.9738337\tbest: 0.9738337 (597)\ttotal: 33.7s\tremaining: 3m 10s\n",
      "800:\tlearn: 0.9804387\ttest: 0.9753936\tbest: 0.9754269 (799)\ttotal: 44.6s\tremaining: 2m 58s\n",
      "Stopped by overfitting detector  (100 iterations wait)\n",
      "\n",
      "bestTest = 0.9761255116\n",
      "bestIteration = 847\n",
      "\n",
      "Shrink model to first 848 iterations.\n"
     ]
    },
    {
     "data": {
      "text/plain": [
       "<catboost.core.CatBoostClassifier at 0x7fa97130add0>"
      ]
     },
     "execution_count": 20,
     "metadata": {},
     "output_type": "execute_result"
    }
   ],
   "source": [
    "cat_features = [i for i, col in enumerate(x_train.columns) if col in label_columns]\n",
    "\n",
    "catboost_model.fit(x_train, \n",
    "          y_train,\n",
    "          cat_features=cat_features, \n",
    "          eval_set=(x_val, y_val), \n",
    "          use_best_model=True)"
   ]
  },
  {
   "cell_type": "code",
   "execution_count": 21,
   "id": "f01d8f00d9b4ae2e",
   "metadata": {
    "ExecuteTime": {
     "end_time": "2024-02-18T15:36:33.827923300Z",
     "start_time": "2024-02-18T15:36:33.765934Z"
    }
   },
   "outputs": [
    {
     "name": "stdout",
     "output_type": "stream",
     "text": [
      "오차행렬:\n",
      " [[ 476    9]\n",
      " [ 456 4989]]\n",
      "\n",
      "정확도: 0.9216\n",
      "정밀도: 0.5107\n",
      "재현율: 0.9814\n",
      "F1: 0.6718\n"
     ]
    }
   ],
   "source": [
    "cat_pred_ = catboost_model.predict(x_val.fillna(0))\n",
    "y_pred_bool = [eval(pred) for pred in cat_pred_]\n",
    "get_clf_eval(y_val, y_pred_bool)"
   ]
  },
  {
   "cell_type": "code",
   "execution_count": 22,
   "id": "2f0197a5430b6e6f",
   "metadata": {
    "ExecuteTime": {
     "end_time": "2024-02-18T15:36:36.462742600Z",
     "start_time": "2024-02-18T15:36:36.426742900Z"
    },
    "scrolled": false
   },
   "outputs": [
    {
     "data": {
      "text/plain": [
       "array([[0.84027756, 0.15972244],\n",
       "       [0.25383329, 0.74616671],\n",
       "       [0.92552316, 0.07447684],\n",
       "       ...,\n",
       "       [0.99667355, 0.00332645],\n",
       "       [0.31870917, 0.68129083],\n",
       "       [0.96150662, 0.03849338]])"
      ]
     },
     "execution_count": 22,
     "metadata": {},
     "output_type": "execute_result"
    }
   ],
   "source": [
    "cat_pred_proba = catboost_model.predict(x_val.fillna(0), prediction_type='Probability')\n",
    "cat_pred_proba"
   ]
  },
  {
   "cell_type": "markdown",
   "id": "dc35b56a",
   "metadata": {},
   "source": [
    "# AdaBoost"
   ]
  },
  {
   "cell_type": "code",
   "execution_count": 23,
   "id": "f72427e2",
   "metadata": {},
   "outputs": [],
   "source": [
    "ada_param = {\n",
    "    'estimator': RandomForestClassifier(max_depth=6,\n",
    "                                        n_estimators=200,\n",
    "                                        random_state=CFG['SEED'],\n",
    "                                        class_weight= {0:1, 1:17},\n",
    "                                        criterion = 'entropy',\n",
    "                                        n_jobs = -1),\n",
    "    'n_estimators': 150,  \n",
    "    'random_state': CFG['SEED'],\n",
    "    'learning_rate': 0.8, \n",
    "}                                 \n",
    "\n",
    "ada_model = AdaBoostClassifier(**ada_param)"
   ]
  },
  {
   "cell_type": "code",
   "execution_count": 24,
   "id": "31440aa7",
   "metadata": {},
   "outputs": [
    {
     "data": {
      "text/html": [
       "<style>#sk-container-id-2 {color: black;background-color: white;}#sk-container-id-2 pre{padding: 0;}#sk-container-id-2 div.sk-toggleable {background-color: white;}#sk-container-id-2 label.sk-toggleable__label {cursor: pointer;display: block;width: 100%;margin-bottom: 0;padding: 0.3em;box-sizing: border-box;text-align: center;}#sk-container-id-2 label.sk-toggleable__label-arrow:before {content: \"▸\";float: left;margin-right: 0.25em;color: #696969;}#sk-container-id-2 label.sk-toggleable__label-arrow:hover:before {color: black;}#sk-container-id-2 div.sk-estimator:hover label.sk-toggleable__label-arrow:before {color: black;}#sk-container-id-2 div.sk-toggleable__content {max-height: 0;max-width: 0;overflow: hidden;text-align: left;background-color: #f0f8ff;}#sk-container-id-2 div.sk-toggleable__content pre {margin: 0.2em;color: black;border-radius: 0.25em;background-color: #f0f8ff;}#sk-container-id-2 input.sk-toggleable__control:checked~div.sk-toggleable__content {max-height: 200px;max-width: 100%;overflow: auto;}#sk-container-id-2 input.sk-toggleable__control:checked~label.sk-toggleable__label-arrow:before {content: \"▾\";}#sk-container-id-2 div.sk-estimator input.sk-toggleable__control:checked~label.sk-toggleable__label {background-color: #d4ebff;}#sk-container-id-2 div.sk-label input.sk-toggleable__control:checked~label.sk-toggleable__label {background-color: #d4ebff;}#sk-container-id-2 input.sk-hidden--visually {border: 0;clip: rect(1px 1px 1px 1px);clip: rect(1px, 1px, 1px, 1px);height: 1px;margin: -1px;overflow: hidden;padding: 0;position: absolute;width: 1px;}#sk-container-id-2 div.sk-estimator {font-family: monospace;background-color: #f0f8ff;border: 1px dotted black;border-radius: 0.25em;box-sizing: border-box;margin-bottom: 0.5em;}#sk-container-id-2 div.sk-estimator:hover {background-color: #d4ebff;}#sk-container-id-2 div.sk-parallel-item::after {content: \"\";width: 100%;border-bottom: 1px solid gray;flex-grow: 1;}#sk-container-id-2 div.sk-label:hover label.sk-toggleable__label {background-color: #d4ebff;}#sk-container-id-2 div.sk-serial::before {content: \"\";position: absolute;border-left: 1px solid gray;box-sizing: border-box;top: 0;bottom: 0;left: 50%;z-index: 0;}#sk-container-id-2 div.sk-serial {display: flex;flex-direction: column;align-items: center;background-color: white;padding-right: 0.2em;padding-left: 0.2em;position: relative;}#sk-container-id-2 div.sk-item {position: relative;z-index: 1;}#sk-container-id-2 div.sk-parallel {display: flex;align-items: stretch;justify-content: center;background-color: white;position: relative;}#sk-container-id-2 div.sk-item::before, #sk-container-id-2 div.sk-parallel-item::before {content: \"\";position: absolute;border-left: 1px solid gray;box-sizing: border-box;top: 0;bottom: 0;left: 50%;z-index: -1;}#sk-container-id-2 div.sk-parallel-item {display: flex;flex-direction: column;z-index: 1;position: relative;background-color: white;}#sk-container-id-2 div.sk-parallel-item:first-child::after {align-self: flex-end;width: 50%;}#sk-container-id-2 div.sk-parallel-item:last-child::after {align-self: flex-start;width: 50%;}#sk-container-id-2 div.sk-parallel-item:only-child::after {width: 0;}#sk-container-id-2 div.sk-dashed-wrapped {border: 1px dashed gray;margin: 0 0.4em 0.5em 0.4em;box-sizing: border-box;padding-bottom: 0.4em;background-color: white;}#sk-container-id-2 div.sk-label label {font-family: monospace;font-weight: bold;display: inline-block;line-height: 1.2em;}#sk-container-id-2 div.sk-label-container {text-align: center;}#sk-container-id-2 div.sk-container {/* jupyter's `normalize.less` sets `[hidden] { display: none; }` but bootstrap.min.css set `[hidden] { display: none !important; }` so we also need the `!important` here to be able to override the default hidden behavior on the sphinx rendered scikit-learn.org. See: https://github.com/scikit-learn/scikit-learn/issues/21755 */display: inline-block !important;position: relative;}#sk-container-id-2 div.sk-text-repr-fallback {display: none;}</style><div id=\"sk-container-id-2\" class=\"sk-top-container\"><div class=\"sk-text-repr-fallback\"><pre>AdaBoostClassifier(estimator=RandomForestClassifier(class_weight={0: 1, 1: 17},\n",
       "                                                    criterion=&#x27;entropy&#x27;,\n",
       "                                                    max_depth=6,\n",
       "                                                    n_estimators=200, n_jobs=-1,\n",
       "                                                    random_state=1813),\n",
       "                   learning_rate=0.8, n_estimators=150, random_state=1813)</pre><b>In a Jupyter environment, please rerun this cell to show the HTML representation or trust the notebook. <br />On GitHub, the HTML representation is unable to render, please try loading this page with nbviewer.org.</b></div><div class=\"sk-container\" hidden><div class=\"sk-item sk-dashed-wrapped\"><div class=\"sk-label-container\"><div class=\"sk-label sk-toggleable\"><input class=\"sk-toggleable__control sk-hidden--visually\" id=\"sk-estimator-id-2\" type=\"checkbox\" ><label for=\"sk-estimator-id-2\" class=\"sk-toggleable__label sk-toggleable__label-arrow\">AdaBoostClassifier</label><div class=\"sk-toggleable__content\"><pre>AdaBoostClassifier(estimator=RandomForestClassifier(class_weight={0: 1, 1: 17},\n",
       "                                                    criterion=&#x27;entropy&#x27;,\n",
       "                                                    max_depth=6,\n",
       "                                                    n_estimators=200, n_jobs=-1,\n",
       "                                                    random_state=1813),\n",
       "                   learning_rate=0.8, n_estimators=150, random_state=1813)</pre></div></div></div><div class=\"sk-parallel\"><div class=\"sk-parallel-item\"><div class=\"sk-item\"><div class=\"sk-label-container\"><div class=\"sk-label sk-toggleable\"><input class=\"sk-toggleable__control sk-hidden--visually\" id=\"sk-estimator-id-3\" type=\"checkbox\" ><label for=\"sk-estimator-id-3\" class=\"sk-toggleable__label sk-toggleable__label-arrow\">estimator: RandomForestClassifier</label><div class=\"sk-toggleable__content\"><pre>RandomForestClassifier(class_weight={0: 1, 1: 17}, criterion=&#x27;entropy&#x27;,\n",
       "                       max_depth=6, n_estimators=200, n_jobs=-1,\n",
       "                       random_state=1813)</pre></div></div></div><div class=\"sk-serial\"><div class=\"sk-item\"><div class=\"sk-estimator sk-toggleable\"><input class=\"sk-toggleable__control sk-hidden--visually\" id=\"sk-estimator-id-4\" type=\"checkbox\" ><label for=\"sk-estimator-id-4\" class=\"sk-toggleable__label sk-toggleable__label-arrow\">RandomForestClassifier</label><div class=\"sk-toggleable__content\"><pre>RandomForestClassifier(class_weight={0: 1, 1: 17}, criterion=&#x27;entropy&#x27;,\n",
       "                       max_depth=6, n_estimators=200, n_jobs=-1,\n",
       "                       random_state=1813)</pre></div></div></div></div></div></div></div></div></div></div>"
      ],
      "text/plain": [
       "AdaBoostClassifier(estimator=RandomForestClassifier(class_weight={0: 1, 1: 17},\n",
       "                                                    criterion='entropy',\n",
       "                                                    max_depth=6,\n",
       "                                                    n_estimators=200, n_jobs=-1,\n",
       "                                                    random_state=1813),\n",
       "                   learning_rate=0.8, n_estimators=150, random_state=1813)"
      ]
     },
     "execution_count": 24,
     "metadata": {},
     "output_type": "execute_result"
    }
   ],
   "source": [
    "ada_model.fit(x_train.fillna(0), y_train)"
   ]
  },
  {
   "cell_type": "code",
   "execution_count": 25,
   "id": "e3d27705",
   "metadata": {},
   "outputs": [
    {
     "name": "stdout",
     "output_type": "stream",
     "text": [
      "오차행렬:\n",
      " [[ 424   61]\n",
      " [  87 5358]]\n",
      "\n",
      "정확도: 0.9750\n",
      "정밀도: 0.8297\n",
      "재현율: 0.8742\n",
      "F1: 0.8514\n"
     ]
    }
   ],
   "source": [
    "ada_pred = ada_model.predict(x_val.fillna(0))\n",
    "get_clf_eval(y_val, ada_pred)"
   ]
  },
  {
   "cell_type": "code",
   "execution_count": 26,
   "id": "9e6b0760",
   "metadata": {},
   "outputs": [
    {
     "data": {
      "text/plain": [
       "array([[0.51828322, 0.48171678],\n",
       "       [0.51300014, 0.48699986],\n",
       "       [0.51925225, 0.48074775],\n",
       "       ...,\n",
       "       [0.53466456, 0.46533544],\n",
       "       [0.49861486, 0.50138514],\n",
       "       [0.52266327, 0.47733673]])"
      ]
     },
     "execution_count": 26,
     "metadata": {},
     "output_type": "execute_result"
    }
   ],
   "source": [
    "ada_pred_proba = ada_model.predict_proba(x_val.fillna(0))\n",
    "ada_pred_proba"
   ]
  },
  {
   "cell_type": "markdown",
   "id": "6b9cf21d",
   "metadata": {},
   "source": [
    "# AdaBoost, LightGBM, CatBoost를 통한 앙상블 모델"
   ]
  },
  {
   "cell_type": "code",
   "execution_count": 27,
   "id": "b8b5b7db019713b5",
   "metadata": {
    "ExecuteTime": {
     "end_time": "2024-02-18T15:39:05.241873500Z",
     "start_time": "2024-02-18T15:39:05.210874600Z"
    }
   },
   "outputs": [
    {
     "data": {
      "text/plain": [
       "array([[2.32202526, 0.67797474],\n",
       "       [1.274394  , 1.725606  ],\n",
       "       [2.35345506, 0.64654494],\n",
       "       ...,\n",
       "       [2.52707982, 0.47292018],\n",
       "       [1.58424281, 1.41575719],\n",
       "       [2.46649395, 0.53350605]])"
      ]
     },
     "execution_count": 27,
     "metadata": {},
     "output_type": "execute_result"
    }
   ],
   "source": [
    "proba = lgb_pred_proba + cat_pred_proba + ada_pred_proba \n",
    "proba"
   ]
  },
  {
   "cell_type": "code",
   "execution_count": 28,
   "id": "efca742ec71ea38e",
   "metadata": {
    "ExecuteTime": {
     "end_time": "2024-02-18T15:39:25.707956600Z",
     "start_time": "2024-02-18T15:39:25.696956700Z"
    }
   },
   "outputs": [],
   "source": [
    "final_result = proba[:, 0] <= proba[:, 1]"
   ]
  },
  {
   "cell_type": "code",
   "execution_count": 29,
   "id": "aa89e738f1d596fb",
   "metadata": {
    "ExecuteTime": {
     "end_time": "2024-02-18T15:39:38.193347800Z",
     "start_time": "2024-02-18T15:39:38.139931700Z"
    }
   },
   "outputs": [
    {
     "name": "stdout",
     "output_type": "stream",
     "text": [
      "오차행렬:\n",
      " [[ 472   13]\n",
      " [ 370 5075]]\n",
      "\n",
      "정확도: 0.9354\n",
      "정밀도: 0.5606\n",
      "재현율: 0.9732\n",
      "F1: 0.7114\n"
     ]
    }
   ],
   "source": [
    "get_clf_eval(y_val, final_result)"
   ]
  },
  {
   "cell_type": "markdown",
   "id": "8379638822c375fe",
   "metadata": {},
   "source": [
    "# Submission"
   ]
  },
  {
   "cell_type": "code",
   "execution_count": 30,
   "id": "7865c8fe97c9bb62",
   "metadata": {
    "ExecuteTime": {
     "end_time": "2024-02-18T15:40:54.919854Z",
     "start_time": "2024-02-18T15:40:54.904854400Z"
    }
   },
   "outputs": [
    {
     "data": {
      "text/html": [
       "<div>\n",
       "<style scoped>\n",
       "    .dataframe tbody tr th:only-of-type {\n",
       "        vertical-align: middle;\n",
       "    }\n",
       "\n",
       "    .dataframe tbody tr th {\n",
       "        vertical-align: top;\n",
       "    }\n",
       "\n",
       "    .dataframe thead th {\n",
       "        text-align: right;\n",
       "    }\n",
       "</style>\n",
       "<table border=\"1\" class=\"dataframe\">\n",
       "  <thead>\n",
       "    <tr style=\"text-align: right;\">\n",
       "      <th></th>\n",
       "      <th>bant_submit</th>\n",
       "      <th>customer_country</th>\n",
       "      <th>business_unit</th>\n",
       "      <th>com_reg_ver_win_rate</th>\n",
       "      <th>customer_idx</th>\n",
       "      <th>customer_type</th>\n",
       "      <th>enterprise</th>\n",
       "      <th>historical_existing_cnt</th>\n",
       "      <th>customer_job</th>\n",
       "      <th>lead_desc_length</th>\n",
       "      <th>...</th>\n",
       "      <th>product_subcategory</th>\n",
       "      <th>product_modelname</th>\n",
       "      <th>customer_position</th>\n",
       "      <th>response_corporate</th>\n",
       "      <th>expected_timeline</th>\n",
       "      <th>ver_win_rate_x</th>\n",
       "      <th>ver_win_ratio_per_bu</th>\n",
       "      <th>business_area</th>\n",
       "      <th>business_subarea</th>\n",
       "      <th>lead_owner</th>\n",
       "    </tr>\n",
       "  </thead>\n",
       "  <tbody>\n",
       "    <tr>\n",
       "      <th>0</th>\n",
       "      <td>0.00</td>\n",
       "      <td>21</td>\n",
       "      <td>2</td>\n",
       "      <td>0.073248</td>\n",
       "      <td>47466</td>\n",
       "      <td>9</td>\n",
       "      <td>0</td>\n",
       "      <td>53.0</td>\n",
       "      <td>17</td>\n",
       "      <td>3</td>\n",
       "      <td>...</td>\n",
       "      <td>349</td>\n",
       "      <td>699</td>\n",
       "      <td>37</td>\n",
       "      <td>43</td>\n",
       "      <td>271</td>\n",
       "      <td>0.001183</td>\n",
       "      <td>0.049840</td>\n",
       "      <td>10</td>\n",
       "      <td>25</td>\n",
       "      <td>278</td>\n",
       "    </tr>\n",
       "    <tr>\n",
       "      <th>1</th>\n",
       "      <td>0.25</td>\n",
       "      <td>149</td>\n",
       "      <td>3</td>\n",
       "      <td>0.000000</td>\n",
       "      <td>5405</td>\n",
       "      <td>9</td>\n",
       "      <td>1</td>\n",
       "      <td>0.0</td>\n",
       "      <td>72</td>\n",
       "      <td>23</td>\n",
       "      <td>...</td>\n",
       "      <td>349</td>\n",
       "      <td>699</td>\n",
       "      <td>37</td>\n",
       "      <td>50</td>\n",
       "      <td>271</td>\n",
       "      <td>0.000013</td>\n",
       "      <td>0.000000</td>\n",
       "      <td>12</td>\n",
       "      <td>62</td>\n",
       "      <td>437</td>\n",
       "    </tr>\n",
       "    <tr>\n",
       "      <th>2</th>\n",
       "      <td>1.00</td>\n",
       "      <td>145</td>\n",
       "      <td>2</td>\n",
       "      <td>0.000000</td>\n",
       "      <td>13597</td>\n",
       "      <td>24</td>\n",
       "      <td>1</td>\n",
       "      <td>0.0</td>\n",
       "      <td>36</td>\n",
       "      <td>138</td>\n",
       "      <td>...</td>\n",
       "      <td>287</td>\n",
       "      <td>232</td>\n",
       "      <td>32</td>\n",
       "      <td>18</td>\n",
       "      <td>246</td>\n",
       "      <td>0.000060</td>\n",
       "      <td>0.131148</td>\n",
       "      <td>4</td>\n",
       "      <td>37</td>\n",
       "      <td>874</td>\n",
       "    </tr>\n",
       "    <tr>\n",
       "      <th>3</th>\n",
       "      <td>0.50</td>\n",
       "      <td>149</td>\n",
       "      <td>2</td>\n",
       "      <td>0.118644</td>\n",
       "      <td>17204</td>\n",
       "      <td>18</td>\n",
       "      <td>0</td>\n",
       "      <td>0.0</td>\n",
       "      <td>67</td>\n",
       "      <td>3</td>\n",
       "      <td>...</td>\n",
       "      <td>58</td>\n",
       "      <td>699</td>\n",
       "      <td>37</td>\n",
       "      <td>50</td>\n",
       "      <td>267</td>\n",
       "      <td>0.001183</td>\n",
       "      <td>0.049840</td>\n",
       "      <td>10</td>\n",
       "      <td>86</td>\n",
       "      <td>194</td>\n",
       "    </tr>\n",
       "    <tr>\n",
       "      <th>4</th>\n",
       "      <td>1.00</td>\n",
       "      <td>21</td>\n",
       "      <td>2</td>\n",
       "      <td>0.074949</td>\n",
       "      <td>2329</td>\n",
       "      <td>9</td>\n",
       "      <td>0</td>\n",
       "      <td>2.0</td>\n",
       "      <td>26</td>\n",
       "      <td>107</td>\n",
       "      <td>...</td>\n",
       "      <td>113</td>\n",
       "      <td>627</td>\n",
       "      <td>37</td>\n",
       "      <td>43</td>\n",
       "      <td>246</td>\n",
       "      <td>0.003079</td>\n",
       "      <td>0.064566</td>\n",
       "      <td>0</td>\n",
       "      <td>28</td>\n",
       "      <td>167</td>\n",
       "    </tr>\n",
       "  </tbody>\n",
       "</table>\n",
       "<p>5 rows × 22 columns</p>\n",
       "</div>"
      ],
      "text/plain": [
       "   bant_submit  customer_country  business_unit  com_reg_ver_win_rate  \\\n",
       "0         0.00                21              2              0.073248   \n",
       "1         0.25               149              3              0.000000   \n",
       "2         1.00               145              2              0.000000   \n",
       "3         0.50               149              2              0.118644   \n",
       "4         1.00                21              2              0.074949   \n",
       "\n",
       "   customer_idx  customer_type  enterprise  historical_existing_cnt  \\\n",
       "0         47466              9           0                     53.0   \n",
       "1          5405              9           1                      0.0   \n",
       "2         13597             24           1                      0.0   \n",
       "3         17204             18           0                      0.0   \n",
       "4          2329              9           0                      2.0   \n",
       "\n",
       "   customer_job  lead_desc_length  ...  product_subcategory  \\\n",
       "0            17                 3  ...                  349   \n",
       "1            72                23  ...                  349   \n",
       "2            36               138  ...                  287   \n",
       "3            67                 3  ...                   58   \n",
       "4            26               107  ...                  113   \n",
       "\n",
       "   product_modelname  customer_position  response_corporate  \\\n",
       "0                699                 37                  43   \n",
       "1                699                 37                  50   \n",
       "2                232                 32                  18   \n",
       "3                699                 37                  50   \n",
       "4                627                 37                  43   \n",
       "\n",
       "   expected_timeline  ver_win_rate_x  ver_win_ratio_per_bu  business_area  \\\n",
       "0                271        0.001183              0.049840             10   \n",
       "1                271        0.000013              0.000000             12   \n",
       "2                246        0.000060              0.131148              4   \n",
       "3                267        0.001183              0.049840             10   \n",
       "4                246        0.003079              0.064566              0   \n",
       "\n",
       "   business_subarea  lead_owner  \n",
       "0                25         278  \n",
       "1                62         437  \n",
       "2                37         874  \n",
       "3                86         194  \n",
       "4                28         167  \n",
       "\n",
       "[5 rows x 22 columns]"
      ]
     },
     "execution_count": 30,
     "metadata": {},
     "output_type": "execute_result"
    }
   ],
   "source": [
    "# 예측에 필요한 데이터 분리\n",
    "x_test = df_test.drop([\"is_converted\", \"id\"], axis=1)\n",
    "x_test.head()"
   ]
  },
  {
   "cell_type": "code",
   "execution_count": 31,
   "id": "369d1d0e2b6700ab",
   "metadata": {
    "ExecuteTime": {
     "end_time": "2024-02-18T15:43:41.186314300Z",
     "start_time": "2024-02-18T15:43:41.135315100Z"
    }
   },
   "outputs": [],
   "source": [
    "lgb_test_pred_proba = lgb_model.predict_proba(x_test.fillna(0))\n",
    "cb_test_pred_proba = catboost_model.predict(x_test.fillna(0), prediction_type='Probability')\n",
    "ada_test_pred_proba = ada_model.predict_proba(x_test.fillna(0))"
   ]
  },
  {
   "cell_type": "code",
   "execution_count": 32,
   "id": "cb418df16fd0fdd",
   "metadata": {
    "ExecuteTime": {
     "end_time": "2024-02-18T15:43:41.672164400Z",
     "start_time": "2024-02-18T15:43:41.660164300Z"
    }
   },
   "outputs": [],
   "source": [
    "final_res = lgb_test_pred_proba + cb_test_pred_proba + ada_test_pred_proba "
   ]
  },
  {
   "cell_type": "code",
   "execution_count": 33,
   "id": "d8f6c88293def5a1",
   "metadata": {
    "ExecuteTime": {
     "end_time": "2024-02-18T15:43:42.175533800Z",
     "start_time": "2024-02-18T15:43:42.154535Z"
    }
   },
   "outputs": [
    {
     "data": {
      "text/plain": [
       "array([ True,  True, False, ..., False, False,  True])"
      ]
     },
     "execution_count": 33,
     "metadata": {},
     "output_type": "execute_result"
    }
   ],
   "source": [
    "final = final_res[:, 0] <= final_res[:, 1]\n",
    "final"
   ]
  },
  {
   "cell_type": "code",
   "execution_count": 34,
   "id": "9c8a2b8d6edf906",
   "metadata": {
    "ExecuteTime": {
     "end_time": "2024-02-18T15:43:42.984492200Z",
     "start_time": "2024-02-18T15:43:42.962502100Z"
    }
   },
   "outputs": [
    {
     "data": {
      "text/plain": [
       "1935"
      ]
     },
     "execution_count": 34,
     "metadata": {},
     "output_type": "execute_result"
    }
   ],
   "source": [
    "sum(final)"
   ]
  },
  {
   "cell_type": "code",
   "execution_count": 35,
   "id": "293e3f02a7741b0f",
   "metadata": {
    "ExecuteTime": {
     "end_time": "2024-02-18T15:43:44.134781400Z",
     "start_time": "2024-02-18T15:43:44.085784500Z"
    }
   },
   "outputs": [],
   "source": [
    "# 제출 데이터 읽어오기 (df_test는 전처리된 데이터가 저장됨)\n",
    "df_sub = pd.read_csv(\"submission.csv\")\n",
    "df_sub[\"is_converted\"] = final\n",
    "\n",
    "# 제출 파일 저장\n",
    "df_sub.to_csv(\"submission.csv\", index=False)"
   ]
  }
 ],
 "metadata": {
  "kernelspec": {
   "display_name": "Python 3 (ipykernel)",
   "language": "python",
   "name": "python3"
  },
  "language_info": {
   "codemirror_mode": {
    "name": "ipython",
    "version": 3
   },
   "file_extension": ".py",
   "mimetype": "text/x-python",
   "name": "python",
   "nbconvert_exporter": "python",
   "pygments_lexer": "ipython3",
   "version": "3.10.13"
  }
 },
 "nbformat": 4,
 "nbformat_minor": 5
}
